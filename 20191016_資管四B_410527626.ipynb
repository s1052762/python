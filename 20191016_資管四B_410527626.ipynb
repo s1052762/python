{
 "cells": [
  {
   "cell_type": "code",
   "execution_count": 2,
   "metadata": {},
   "outputs": [
    {
     "name": "stdout",
     "output_type": "stream",
     "text": [
      "請輸入成績：50\n",
      "丁等\n"
     ]
    }
   ],
   "source": [
    "score = input(\"請輸入成績：\")\n",
    "if (int(score)) >= 90:\n",
    "    print(\"優等\")\n",
    "elif (int(score))>=80:\n",
    "    print(\"甲等\")\n",
    "elif (int(score))>=70:\n",
    "    print(\"乙等\")\n",
    "elif (int(score))>=60:\n",
    "    print(\"丙等\")\n",
    "else :\n",
    "    print(\"丁等\")"
   ]
  },
  {
   "cell_type": "markdown",
   "metadata": {},
   "source": [
    "##實作練習二"
   ]
  },
  {
   "cell_type": "code",
   "execution_count": 3,
   "metadata": {},
   "outputs": [
    {
     "name": "stdout",
     "output_type": "stream",
     "text": [
      "請輸入正整數:10\n",
      "55\n"
     ]
    }
   ],
   "source": [
    "def sum():\n",
    "    sum = 0\n",
    "    n = int(input(\"請輸入正整數:\"))\n",
    "    for m in range(1,n+1):\n",
    "        sum = sum + m\n",
    "    return sum\n",
    " \n",
    "print(sum())\n"
   ]
  },
  {
   "cell_type": "markdown",
   "metadata": {},
   "source": [
    "##實作練習五"
   ]
  },
  {
   "cell_type": "code",
   "execution_count": 4,
   "metadata": {},
   "outputs": [
    {
     "name": "stdout",
     "output_type": "stream",
     "text": [
      "請輸入正整數:30\n",
      "1\n",
      "2\n",
      "3\n",
      "4\n",
      "6\n",
      "7\n",
      "8\n",
      "9\n",
      "11\n",
      "12\n",
      "13\n",
      "14\n",
      "16\n",
      "17\n",
      "18\n",
      "19\n",
      "21\n",
      "22\n",
      "23\n",
      "24\n",
      "26\n",
      "27\n",
      "28\n",
      "29\n"
     ]
    }
   ],
   "source": [
    "n = int(input(\"請輸入正整數:\"))\n",
    "for i in range(1,n+1):\n",
    "    if i % 5 ==0:\n",
    "        continue\n",
    "    print(i)       "
   ]
  },
  {
   "cell_type": "markdown",
   "metadata": {},
   "source": [
    "##實作練習六"
   ]
  },
  {
   "cell_type": "code",
   "execution_count": null,
   "metadata": {},
   "outputs": [
    {
     "name": "stdout",
     "output_type": "stream",
     "text": [
      "請輸入正整數:10\n"
     ]
    }
   ],
   "source": [
    "total =1\n",
    "\n",
    "n = int(input(\"請輸入正整數:\"))\n",
    "while(m<=n):\n",
    "    total*=\n",
    "print(total)   "
   ]
  },
  {
   "cell_type": "code",
   "execution_count": null,
   "metadata": {},
   "outputs": [],
   "source": []
  }
 ],
 "metadata": {
  "kernelspec": {
   "display_name": "Python 3",
   "language": "python",
   "name": "python3"
  },
  "language_info": {
   "codemirror_mode": {
    "name": "ipython",
    "version": 3
   },
   "file_extension": ".py",
   "mimetype": "text/x-python",
   "name": "python",
   "nbconvert_exporter": "python",
   "pygments_lexer": "ipython3",
   "version": "3.7.3"
  }
 },
 "nbformat": 4,
 "nbformat_minor": 2
}
